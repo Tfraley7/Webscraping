{
 "cells": [
  {
   "cell_type": "code",
   "execution_count": 1,
   "id": "5af8d304",
   "metadata": {},
   "outputs": [],
   "source": [
    "from splinter import Browser\n",
    "from bs4 import BeautifulSoup as soup\n",
    "from webdriver_manager.chrome import ChromeDriverManager"
   ]
  },
  {
   "cell_type": "code",
   "execution_count": 6,
   "id": "b92f2598",
   "metadata": {},
   "outputs": [],
   "source": [
    "\n",
    "# Set up Splinter\n",
    "executable_path = {'executable_path': ChromeDriverManager().install()}\n",
    "browser = Browser('chrome', **executable_path, headless=False)\n",
    "\n",
    "url = 'https://globalvoices.org/page/2/'\n",
    "browser.visit(url)\n",
    "html = browser.html\n",
    "quote_soup = soup(html, 'html.parser')\n",
    "browser.links.find_by_partial_text(\"No thanks\").click()"
   ]
  },
  {
   "cell_type": "code",
   "execution_count": null,
   "id": "ecd194af",
   "metadata": {},
   "outputs": [],
   "source": [
    "articlelist = []"
   ]
  },
  {
   "cell_type": "code",
   "execution_count": 9,
   "id": "6b2adcf6",
   "metadata": {},
   "outputs": [],
   "source": [
    "def get_summary():\n",
    "    html = browser.html\n",
    "    quote_soup = soup(html, 'html.parser')\n",
    "\n",
    "    articles = quote_soup.find_all('div', class_='gv-promo-card-text')\n",
    "    for article in articles:\n",
    "        title = article.find('h3', class_='post-title').text.strip()\n",
    "        date = article.find('span', class_='datestamp')['title']\n",
    "        date = date.replace('_', \"\")\n",
    "\n",
    "        summary_dict = {\n",
    "\n",
    "            \"title\":title,\n",
    "            \"date\": date\n",
    "        }\n",
    "\n",
    "    articlelist.append(summary_dict)\n"
   ]
  },
  {
   "cell_type": "code",
   "execution_count": 10,
   "id": "5f2946d7",
   "metadata": {},
   "outputs": [
    {
     "data": {
      "text/plain": [
       "[{'title': 'Giant cats on walls: Odesa street art inspired by the war, but not only',\n",
       "  'date': '26 10 2022'},\n",
       " {'title': 'Armenia is rocked by the suicide of a gay couple',\n",
       "  'date': '26 10 2022'},\n",
       " {'title': 'Explaining the 20th Congress of the Communist Party of China: Struggle and fight',\n",
       "  'date': '26 10 2022'},\n",
       " {'title': '‘A girl with a Hindu heart’', 'date': '25 10 2022'},\n",
       " {'title': 'Police detains scores of activists at an opposition party rally in Azerbaijan',\n",
       "  'date': '25 10 2022'},\n",
       " {'title': 'Klinika Bernardo pioneers, innovates community health care for HIV patients in the Philippines',\n",
       "  'date': '25 10 2022'},\n",
       " {'title': 'One of the last Ladino language speakers in Bosnia, Moris Albahari, passed away',\n",
       "  'date': '25 10 2022'},\n",
       " {'title': 'In Trinidad & Tobago, Divali remains a festival beloved by people of all faiths',\n",
       "  'date': '24 10 2022'},\n",
       " {'title': 'How Palestinian youth resisted Israeli occupation: With a haircut',\n",
       "  'date': '24 10 2022'},\n",
       " {'title': 'Activists predict homophobic and transphobic violence in Russia, but most avenues of escape are slammed shut',\n",
       "  'date': '24 10 2022'},\n",
       " {'title': \"‘Call them by their names': Stories of Russian anti-war political prisoners\",\n",
       "  'date': '24 10 2022'},\n",
       " {'title': 'How the hot chilli pepper ‘Akabare’ came to tickle the taste-buds of Nepali noodle lovers',\n",
       "  'date': '24 10 2022'},\n",
       " {'title': 'More guns, fewer control mechanisms: Brazilian journalist analyzes Bolsonaro’s gun policy',\n",
       "  'date': '23 10 2022'},\n",
       " {'title': 'Brazilian candidates reduce attention on peripheral neighborhoods in 2022 elections',\n",
       "  'date': '22 10 2022'},\n",
       " {'title': 'Explaining the 20th Congress of the Communist Party of China: Jiangshan',\n",
       "  'date': '21 10 2022'},\n",
       " {'title': \"Australia's unique natural wonders are at risk from ecotourism expansion\",\n",
       "  'date': '21 10 2022'},\n",
       " {'title': \"The love and hate relationship of Hungary's ruling party Fidesz and Facebook\\xa0\",\n",
       "  'date': '21 10 2022'},\n",
       " {'title': 'Turkish lawmakers ratify new disinformation bill',\n",
       "  'date': '21 10 2022'},\n",
       " {'title': 'Ola Bini, the cyberactivist who causes panic in Ecuador',\n",
       "  'date': '21 10 2022'},\n",
       " {'title': 'Filming Gyani Maiya Sen who inspired efforts to revive the dying Kusunda language in Nepal',\n",
       "  'date': '20 10 2022'},\n",
       " {'title': 'In Ukraine, the war has reshaped language to create new idioms',\n",
       "  'date': '20 10 2022'}]"
      ]
     },
     "execution_count": 10,
     "metadata": {},
     "output_type": "execute_result"
    }
   ],
   "source": [
    "articlelist"
   ]
  },
  {
   "cell_type": "code",
   "execution_count": null,
   "id": "fbe3aa0a",
   "metadata": {},
   "outputs": [],
   "source": []
  }
 ],
 "metadata": {
  "kernelspec": {
   "display_name": "PythonData",
   "language": "python",
   "name": "pythondata"
  },
  "language_info": {
   "codemirror_mode": {
    "name": "ipython",
    "version": 3
   },
   "file_extension": ".py",
   "mimetype": "text/x-python",
   "name": "python",
   "nbconvert_exporter": "python",
   "pygments_lexer": "ipython3",
   "version": "3.9.12"
  }
 },
 "nbformat": 4,
 "nbformat_minor": 5
}
