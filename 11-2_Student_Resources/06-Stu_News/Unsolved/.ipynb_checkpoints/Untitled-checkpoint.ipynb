{
 "cells": [
  {
   "cell_type": "code",
   "execution_count": 1,
   "id": "5af8d304",
   "metadata": {},
   "outputs": [],
   "source": [
    "from splinter import Browser\n",
    "from bs4 import BeautifulSoup as soup\n",
    "from webdriver_manager.chrome import ChromeDriverManager"
   ]
  },
  {
   "cell_type": "code",
   "execution_count": 6,
   "id": "b92f2598",
   "metadata": {},
   "outputs": [],
   "source": [
    "\n",
    "# Set up Splinter\n",
    "executable_path = {'executable_path': ChromeDriverManager().install()}\n",
    "browser = Browser('chrome', **executable_path, headless=False)\n",
    "\n",
    "url = 'https://globalvoices.org/page/2/'\n",
    "browser.visit(url)\n",
    "html = browser.html\n",
    "quote_soup = soup(html, 'html.parser')\n",
    "browser.links.find_by_partial_text(\"No thanks\").click()"
   ]
  },
  {
   "cell_type": "code",
   "execution_count": null,
   "id": "ecd194af",
   "metadata": {},
   "outputs": [],
   "source": [
    "articlelist = []"
   ]
  },
  {
   "cell_type": "code",
   "execution_count": 8,
   "id": "6b2adcf6",
   "metadata": {},
   "outputs": [],
   "source": [
    "def get_summary():\n",
    "    html = browser.html\n",
    "    quote_soup = soup(html, 'html.parser')\n",
    "\n",
    "    articles = quote_soup.find_all('div', class_='gv-promo-card-text')\n",
    "    for article in articles:\n",
    "        title = article.find('h3', class_='post-title').text.strip()\n",
    "        date = article.find('span', class_='datestamp')['title']\n",
    "        date = date.replace('_', \"\")\n",
    "\n",
    "        summary_dict = {\n",
    "\n",
    "            \"title\":title,\n",
    "            \"date\": date\n",
    "        }\n",
    "\n",
    "    articlelist.append(summary_dict)\n"
   ]
  },
  {
   "cell_type": "code",
   "execution_count": null,
   "id": "5f2946d7",
   "metadata": {},
   "outputs": [],
   "source": []
  }
 ],
 "metadata": {
  "kernelspec": {
   "display_name": "PythonData",
   "language": "python",
   "name": "pythondata"
  },
  "language_info": {
   "codemirror_mode": {
    "name": "ipython",
    "version": 3
   },
   "file_extension": ".py",
   "mimetype": "text/x-python",
   "name": "python",
   "nbconvert_exporter": "python",
   "pygments_lexer": "ipython3",
   "version": "3.9.12"
  }
 },
 "nbformat": 4,
 "nbformat_minor": 5
}
