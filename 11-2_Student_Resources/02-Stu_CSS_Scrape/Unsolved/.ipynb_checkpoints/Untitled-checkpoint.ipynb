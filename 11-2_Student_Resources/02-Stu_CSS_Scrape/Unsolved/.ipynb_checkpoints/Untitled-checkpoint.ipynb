{
 "cells": [
  {
   "cell_type": "code",
   "execution_count": 6,
   "id": "ea59aad6",
   "metadata": {},
   "outputs": [],
   "source": [
    "from bs4 import BeautifulSoup"
   ]
  },
  {
   "cell_type": "code",
   "execution_count": 7,
   "id": "2a27495e",
   "metadata": {},
   "outputs": [],
   "source": [
    "html = \"\"\"<!DOCTYPE html>\n",
    "<html lang=\"en\">\n",
    "\n",
    "<head>\n",
    "    <meta charset=\"UTF-8\">\n",
    "    <meta http-equiv=\"X-UA-Compatible\" content=\"IE=edge\">\n",
    "    <meta name=\"viewport\" content=\"width=device-width, initial-scale=1.0\">\n",
    "    <title>Document</title>\n",
    "</head>\n",
    "\n",
    "<body>\n",
    "    <h1>pandas</h1>\n",
    "    <blockquote>pandas is a powerful Python data analysis library. </blockquote>\n",
    "\n",
    "    <div id=\"start\" , class=\"section\">\n",
    "        <h3 class=\"section-header\">Getting Started</h3>\n",
    "        <ul class=\"pandas-ul\">\n",
    "            <a href=\"https://pandas.pydata.org/getting_started.html\">\n",
    "                <li>Install pandas</li>\n",
    "            </a>\n",
    "            <a href=\"https://pandas.pydata.org/docs/getting_started/index.html\">\n",
    "                <li>Getting started</li>\n",
    "            </a>\n",
    "        </ul>\n",
    "    </div>\n",
    "\n",
    "    <div id=\"documentation\" , class=\"section\">\n",
    "        <h3 class=\"section-header\">Documentation</h3>\n",
    "        <ul class=\"pandas-ul\">\n",
    "            <a href=\"https://pandas.pydata.org/docs/user_guide/index.html\">\n",
    "                <li>User guide</li>\n",
    "            </a>\n",
    "            <a href=\"https://pandas.pydata.org/docs/reference/index.html\">\n",
    "                <li>API reference</li>\n",
    "            </a>\n",
    "            <a href=\"https://pandas.pydata.org/docs/development/index.html\">\n",
    "                <li>How to contribute to pandas</li>\n",
    "            </a>\n",
    "        </ul>\n",
    "    </div>\n",
    "\n",
    "    <div id=\"community\" , class=\"section\">\n",
    "        <h3 class=\"section-header\">The pandas Community</h3>\n",
    "        <ul class=\"pandas-ul\">\n",
    "            <a href=\"https://pandas.pydata.org/about/index.html\">\n",
    "                <li>More about pandas</li>\n",
    "            </a>\n",
    "            <a href=\"https://stackoverflow.com/questions/tagged/pandas\">\n",
    "                <li>Have questions?</li>\n",
    "            </a>\n",
    "            <a href=\"https://pandas.pydata.org/community/ecosystem.html\">\n",
    "                <li>The pandas ecosystem</li>\n",
    "            </a>\n",
    "        </ul>\n",
    "    </div>\n",
    "</body>\n",
    "\n",
    "</html>\n",
    "\"\"\""
   ]
  },
  {
   "cell_type": "code",
   "execution_count": 8,
   "id": "48ccf372",
   "metadata": {},
   "outputs": [
    {
     "ename": "SyntaxError",
     "evalue": "invalid syntax (3270189691.py, line 1)",
     "output_type": "error",
     "traceback": [
      "\u001b[0;36m  Input \u001b[0;32mIn [8]\u001b[0;36m\u001b[0m\n\u001b[0;31m    * In this activity, you will use BeautifulSoup to extract information from a simplified version of the official Pandas website.\u001b[0m\n\u001b[0m         ^\u001b[0m\n\u001b[0;31mSyntaxError\u001b[0m\u001b[0;31m:\u001b[0m invalid syntax\n"
     ]
    }
   ],
   "source": [
    "* In this activity, you will use BeautifulSoup to extract information from a simplified version of the official Pandas website.\n",
    "\n",
    "* Follow these steps to set up for web scraping:\n",
    "\n",
    "  * Create a new Jupyter notebook and import BeautifulSoup.\n",
    "  \n",
    "  * Copy and paste the code of the provided HTML file into a Python string.\n",
    "\n",
    "  * Create an instance of BeautifulSoup to parse the HTML.\n",
    "\n",
    "* Use BeautifulSoup to retrieve the following:\n",
    "\n",
    "  * The **text** of all `h3`-level headers.\n",
    "\n",
    "  * The text and URLs of only the first section (\"Getting Started\"). Use the `id` of this section to scrape the data.\n",
    "\n",
    "  * **All** URLs on the page.\n",
    "\n",
    "## Bonus\n",
    "\n",
    "* Each subsection on the page consists of a header, e.g. \"Getting Started\" and links. Write Python code to automate the collection of headers and link URLs in a logical structure. Below is an example of what you might end up with.\n",
    "\n",
    "```python\n",
    "{'Getting Started': ['https://pandas.pydata.org/getting_started.html',\n",
    "  'https://pandas.pydata.org/docs/getting_started/index.html'],\n",
    " 'Documentation': ['https://pandas.pydata.org/docs/user_guide/index.html',\n",
    "  'https://pandas.pydata.org/docs/reference/index.html',\n",
    "  'https://pandas.pydata.org/docs/development/index.html'],\n",
    " 'The pandas Community': ['https://pandas.pydata.org/about/index.html',\n",
    "  'https://stackoverflow.com/questions/tagged/pandas',\n",
    "  'https://pandas.pydata.org/community/ecosystem.html']}\n",
    "```\n",
    "\n",
    "* The above data structure is a dictionary. Each key in the dictionary corresponds to a section title, and each dictionary value is a list of the URLs in that section.\n"
   ]
  },
  {
   "cell_type": "code",
   "execution_count": 9,
   "id": "46e112e4",
   "metadata": {},
   "outputs": [],
   "source": [
    "html_soup = BeautifulSoup(html, 'html.parser')"
   ]
  },
  {
   "cell_type": "code",
   "execution_count": 14,
   "id": "fc353766",
   "metadata": {},
   "outputs": [
    {
     "data": {
      "text/plain": [
       "[<h3 class=\"section-header\">Getting Started</h3>,\n",
       " <h3 class=\"section-header\">Documentation</h3>,\n",
       " <h3 class=\"section-header\">The pandas Community</h3>]"
      ]
     },
     "execution_count": 14,
     "metadata": {},
     "output_type": "execute_result"
    }
   ],
   "source": [
    "html_soup.find_all('h3')"
   ]
  },
  {
   "cell_type": "code",
   "execution_count": 15,
   "id": "9a9e4298",
   "metadata": {},
   "outputs": [
    {
     "data": {
      "text/plain": [
       "['Getting Started', 'Documentation', 'The pandas Community']"
      ]
     },
     "execution_count": 15,
     "metadata": {},
     "output_type": "execute_result"
    }
   ],
   "source": [
    "headers = html_soup.find_all('h3')\n",
    "allheaders = [header.text for header in headers]\n",
    "allheaders"
   ]
  },
  {
   "cell_type": "code",
   "execution_count": null,
   "id": "89ac4bc5",
   "metadata": {},
   "outputs": [],
   "source": [
    "startsection = html"
   ]
  }
 ],
 "metadata": {
  "kernelspec": {
   "display_name": "PythonData",
   "language": "python",
   "name": "pythondata"
  },
  "language_info": {
   "codemirror_mode": {
    "name": "ipython",
    "version": 3
   },
   "file_extension": ".py",
   "mimetype": "text/x-python",
   "name": "python",
   "nbconvert_exporter": "python",
   "pygments_lexer": "ipython3",
   "version": "3.9.12"
  }
 },
 "nbformat": 4,
 "nbformat_minor": 5
}
